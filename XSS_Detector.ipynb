{
  "nbformat": 4,
  "nbformat_minor": 0,
  "metadata": {
    "colab": {
      "provenance": [],
      "gpuType": "T4"
    },
    "kernelspec": {
      "name": "python3",
      "display_name": "Python 3"
    },
    "language_info": {
      "name": "python"
    },
    "accelerator": "GPU"
  },
  "cells": [
    {
      "cell_type": "markdown",
      "source": [
        "## Import Modules"
      ],
      "metadata": {
        "id": "cSqpzl2t-oz3"
      }
    },
    {
      "cell_type": "code",
      "execution_count": 1,
      "metadata": {
        "id": "VGruGStrB7bQ"
      },
      "outputs": [],
      "source": [
        "import requests\n",
        "import numpy as np\n",
        "import pandas as pd\n",
        "import tensorflow as tf\n",
        "import matplotlib.pyplot as plt\n",
        "from sklearn.model_selection import train_test_split\n",
        "from tensorflow.keras.preprocessing.text import Tokenizer\n",
        "from sklearn.preprocessing import LabelEncoder\n",
        "from tensorflow.keras.models import Sequential\n",
        "from tensorflow.keras.layers import Embedding, LSTM, Dense, Dropout\n",
        "from tensorflow.keras.preprocessing.sequence import pad_sequences\n",
        "from tensorflow.keras.models import load_model\n",
        "from keras.metrics import Precision,Recall,AUC"
      ]
    },
    {
      "cell_type": "markdown",
      "source": [
        "## Upload Dataset\n",
        "\n",
        "Dataset taken from: https://www.kaggle.com/datasets/syedsaqlainhussain/cross-site-scripting-xss-dataset-for-deep-learning"
      ],
      "metadata": {
        "id": "w1ZxD94d-8wV"
      }
    },
    {
      "cell_type": "code",
      "source": [
        "data = pd.read_csv('XSS_dataset.csv')"
      ],
      "metadata": {
        "id": "dl2HsJ0JRu0Z"
      },
      "execution_count": 2,
      "outputs": []
    },
    {
      "cell_type": "markdown",
      "source": [
        "## Separate Dataset:\n",
        "\n",
        "* X = Predictor Variable (Here: \"Sentence\" the script snippet of HTML or Javascript)\n",
        "* Y = Prediction Variable (Here: \"Label\" the classification label that if the script is XSS or Not)"
      ],
      "metadata": {
        "id": "Ldj4qZaJ_rBX"
      }
    },
    {
      "cell_type": "code",
      "source": [
        "X = data['Sentence']\n",
        "y = data['Label']"
      ],
      "metadata": {
        "id": "OMM6NG3fSCeB"
      },
      "execution_count": 3,
      "outputs": []
    },
    {
      "cell_type": "markdown",
      "source": [
        "## Tokenize and Padding:\n",
        "\n",
        "Tokenize the dataset to change text data into numerical data and pad them with 0s to make all of them of same length."
      ],
      "metadata": {
        "id": "ajN0B1SJAqzk"
      }
    },
    {
      "cell_type": "code",
      "source": [
        "tokenizer = Tokenizer()\n",
        "tokenizer.fit_on_texts(X)\n",
        "X = tokenizer.texts_to_sequences(X)\n",
        "max_sequence_length = max(len(seq) for seq in X)\n",
        "X = pad_sequences(X, maxlen=max_sequence_length)\n",
        "print(X)"
      ],
      "metadata": {
        "id": "h5GgUZeFSQ4g"
      },
      "execution_count": null,
      "outputs": []
    },
    {
      "cell_type": "markdown",
      "source": [
        "## Encode the Label:"
      ],
      "metadata": {
        "id": "MAJjf0D6BCbi"
      }
    },
    {
      "cell_type": "code",
      "source": [
        "label_encoder = LabelEncoder()\n",
        "y = label_encoder.fit_transform(y)"
      ],
      "metadata": {
        "id": "HBfiT4_NSp7E"
      },
      "execution_count": 5,
      "outputs": []
    },
    {
      "cell_type": "markdown",
      "source": [
        "## Split dataset into train and test\n",
        "75 % Training\n",
        "25 % Testing"
      ],
      "metadata": {
        "id": "JWeJYtbZBQFW"
      }
    },
    {
      "cell_type": "code",
      "source": [
        "X_train,X_test,y_train,y_test = train_test_split(X,y,test_size=0.25)"
      ],
      "metadata": {
        "id": "DzkepJfuTE8S"
      },
      "execution_count": 6,
      "outputs": []
    },
    {
      "cell_type": "markdown",
      "source": [
        "## Create Deep Learning Model:\n",
        "Using Sequential, LSTM, Dense and activation:\"RelU\""
      ],
      "metadata": {
        "id": "eUCtWBGSB3G4"
      }
    },
    {
      "cell_type": "code",
      "source": [
        "model = Sequential()\n",
        "model.add(Embedding(input_dim=len(tokenizer.word_index) + 1, output_dim=128, input_length=max_sequence_length))\n",
        "model.add(LSTM(100))\n",
        "model.add(Dense(1, activation='relu'))"
      ],
      "metadata": {
        "id": "USIPd-fiTJKf"
      },
      "execution_count": 7,
      "outputs": []
    },
    {
      "cell_type": "markdown",
      "source": [
        "## Compile the Model:"
      ],
      "metadata": {
        "id": "gkMYH7sWCPwq"
      }
    },
    {
      "cell_type": "code",
      "source": [
        "model.compile(optimizer='adam', loss='binary_crossentropy', metrics=['accuracy',Precision(),Recall(),AUC(curve='ROC')])"
      ],
      "metadata": {
        "id": "3Fm0pt10TZHQ"
      },
      "execution_count": 8,
      "outputs": []
    },
    {
      "cell_type": "markdown",
      "source": [
        "## Fit Dataset into the Model:"
      ],
      "metadata": {
        "id": "dKVXWC0WCT_K"
      }
    },
    {
      "cell_type": "code",
      "source": [
        "model.fit(X_train, y_train, epochs=10, validation_data=(X_test, y_test))"
      ],
      "metadata": {
        "id": "8Ei1leVPTdYr"
      },
      "execution_count": null,
      "outputs": []
    },
    {
      "cell_type": "markdown",
      "source": [
        "## Load The Model (Optional)\n",
        "if you saved an high accuracy fitted model you can load that instead of re-training the model again and again."
      ],
      "metadata": {
        "id": "-uV3jRM3Caek"
      }
    },
    {
      "cell_type": "code",
      "source": [
        "model = load_model('model61223.h5')"
      ],
      "metadata": {
        "id": "vohM9NdFpfvT"
      },
      "execution_count": null,
      "outputs": []
    },
    {
      "cell_type": "markdown",
      "source": [
        "## Take In Live Data And Pre-Process:\n",
        "\n",
        "takes URL from user and gets source code of the page associated with the url to scan line by line for XSS scripts"
      ],
      "metadata": {
        "id": "f63wwk7vCxDV"
      }
    },
    {
      "cell_type": "code",
      "source": [
        "def getSourceCode(url):\n",
        "  r = requests.get(url)\n",
        "  return r.text\n",
        "sc = getSourceCode(str(input(\"Enter a URL to scan: \")))\n",
        "sclines = sc.split(\"\\n\")\n",
        "cleaned = [item for item in sclines if item and item.strip()]\n",
        "#cleaned.append(\"<script>while(1){alert('attack')}</script>\") //Demo XSS-appended\n",
        "#cleaned.append(\"<tt onmouseover='alert(1)>test</tt>\") //Demo XSS-appended"
      ],
      "metadata": {
        "id": "oR4gsd4-VoQV"
      },
      "execution_count": null,
      "outputs": []
    },
    {
      "cell_type": "markdown",
      "source": [
        "## Predict Outputs:"
      ],
      "metadata": {
        "id": "AL2kLhHeDgTL"
      }
    },
    {
      "cell_type": "code",
      "source": [
        "tokenized = tokenizer.texts_to_sequences(cleaned)\n",
        "padded = pad_sequences(tokenized, maxlen=max_sequence_length)\n",
        "predictions = model.predict(padded)\n",
        "binary_predictions = (predictions > 2.05).astype(int)\n",
        "decoded_predictions = label_encoder.inverse_transform(binary_predictions.flatten())\n",
        "highly_likely = []\n",
        "for sentence, prediction, decoded in zip(cleaned,predictions,decoded_predictions,):\n",
        "  if(decoded == 1):\n",
        "    highly_likely.append({\"Script\":sentence.strip(),\"Score\":prediction,\"Prediction\":decoded})\n",
        "highly_likely = sorted(highly_likely, key=lambda x: x[\"Score\"], reverse=True)\n",
        "for i in highly_likely:\n",
        "    print(f\"Script: {i['Script']}\\nScore: {i['Score']}\\nPrediction: {i['Prediction']}\")\n"
      ],
      "metadata": {
        "id": "uCA_jJtQWCJJ"
      },
      "execution_count": null,
      "outputs": []
    },
    {
      "cell_type": "markdown",
      "source": [
        "## Save Trained Model(Optional):\n",
        "\n",
        "save the trained model if you want to re-use it instead of re-training several times."
      ],
      "metadata": {
        "id": "F_uBpNOuDo4C"
      }
    },
    {
      "cell_type": "code",
      "source": [
        "model.save('model61223.h5')"
      ],
      "metadata": {
        "id": "jcu9KDe9S9U4"
      },
      "execution_count": null,
      "outputs": []
    }
  ]
}
